{
 "cells": [
  {
   "cell_type": "code",
   "execution_count": 65,
   "metadata": {},
   "outputs": [
    {
     "ename": "ModuleNotFoundError",
     "evalue": "No module named 'statsbomb'",
     "output_type": "error",
     "traceback": [
      "\u001b[0;31m---------------------------------------------------------------------------\u001b[0m",
      "\u001b[0;31mModuleNotFoundError\u001b[0m                       Traceback (most recent call last)",
      "\u001b[0;32m<ipython-input-65-8e1765cb2901>\u001b[0m in \u001b[0;36m<module>\u001b[0;34m()\u001b[0m\n\u001b[1;32m      7\u001b[0m \u001b[0;32mfrom\u001b[0m \u001b[0mos\u001b[0m \u001b[0;32mimport\u001b[0m \u001b[0mwalk\u001b[0m\u001b[0;34m\u001b[0m\u001b[0m\n\u001b[1;32m      8\u001b[0m \u001b[0;32mimport\u001b[0m \u001b[0mmatplotlib\u001b[0m\u001b[0;34m.\u001b[0m\u001b[0mpyplot\u001b[0m \u001b[0;32mas\u001b[0m \u001b[0mplt\u001b[0m\u001b[0;34m\u001b[0m\u001b[0m\n\u001b[0;32m----> 9\u001b[0;31m \u001b[0;32mimport\u001b[0m \u001b[0mstatsbomb\u001b[0m \u001b[0;32mas\u001b[0m \u001b[0msb\u001b[0m\u001b[0;34m\u001b[0m\u001b[0m\n\u001b[0m",
      "\u001b[0;31mModuleNotFoundError\u001b[0m: No module named 'statsbomb'"
     ]
    }
   ],
   "source": [
    "import datetime as dt\n",
    "import numpy as np\n",
    "import pandas as pd\n",
    "import seaborn as sns\n",
    "from os import listdir\n",
    "from os.path import isfile, join\n",
    "from os import walk\n",
    "import matplotlib.pyplot as plt\n",
    "import statsbomb as sb"
   ]
  },
  {
   "cell_type": "code",
   "execution_count": 2,
   "metadata": {},
   "outputs": [],
   "source": [
    "def getJsonPaths(path):\n",
    "    json_files = []\n",
    "#     print(path)\n",
    "    for (dirpath, dirnames, filenames) in walk(path):\n",
    "        json_files.extend(filenames)\n",
    "        break\n",
    "    return json_files\n",
    "\n",
    "def getDirPath(path):\n",
    "    dir_files = []\n",
    "#     print(path)\n",
    "    for (dirpath, dirnames, filenames) in walk(path):\n",
    "        dir_files.extend(dirnames)\n",
    "        break\n",
    "        \n",
    "    #print(dir_files)\n",
    "    return dir_files"
   ]
  },
  {
   "cell_type": "code",
   "execution_count": 34,
   "metadata": {
    "scrolled": false
   },
   "outputs": [
    {
     "name": "stdout",
     "output_type": "stream",
     "text": [
      "There are 799 matches total in this dataset\n",
      "2018/2019    141\n",
      "2018         101\n",
      "2019/2020     87\n",
      "2019          52\n",
      "2014/2015     38\n",
      "2011/2012     37\n",
      "2017/2018     36\n",
      "2009/2010     35\n",
      "2016/2017     34\n",
      "2010/2011     33\n",
      "2015/2016     33\n",
      "2012/2013     32\n",
      "2008/2009     31\n",
      "2013/2014     31\n",
      "2007/2008     28\n",
      "2006/2007     26\n",
      "2005/2006     17\n",
      "2004/2005      7\n",
      "Name: season_year, dtype: int64\n"
     ]
    },
    {
     "data": {
      "text/html": [
       "<div>\n",
       "<style scoped>\n",
       "    .dataframe tbody tr th:only-of-type {\n",
       "        vertical-align: middle;\n",
       "    }\n",
       "\n",
       "    .dataframe tbody tr th {\n",
       "        vertical-align: top;\n",
       "    }\n",
       "\n",
       "    .dataframe thead th {\n",
       "        text-align: right;\n",
       "    }\n",
       "</style>\n",
       "<table border=\"1\" class=\"dataframe\">\n",
       "  <thead>\n",
       "    <tr style=\"text-align: right;\">\n",
       "      <th>season_year</th>\n",
       "      <th>2004/2005</th>\n",
       "      <th>2005/2006</th>\n",
       "      <th>2006/2007</th>\n",
       "      <th>2007/2008</th>\n",
       "      <th>2008/2009</th>\n",
       "      <th>2009/2010</th>\n",
       "      <th>2010/2011</th>\n",
       "      <th>2011/2012</th>\n",
       "      <th>2012/2013</th>\n",
       "      <th>2013/2014</th>\n",
       "      <th>2014/2015</th>\n",
       "      <th>2015/2016</th>\n",
       "      <th>2016/2017</th>\n",
       "      <th>2017/2018</th>\n",
       "      <th>2018</th>\n",
       "      <th>2018/2019</th>\n",
       "      <th>2019</th>\n",
       "      <th>2019/2020</th>\n",
       "    </tr>\n",
       "    <tr>\n",
       "      <th>EPL_game</th>\n",
       "      <th></th>\n",
       "      <th></th>\n",
       "      <th></th>\n",
       "      <th></th>\n",
       "      <th></th>\n",
       "      <th></th>\n",
       "      <th></th>\n",
       "      <th></th>\n",
       "      <th></th>\n",
       "      <th></th>\n",
       "      <th></th>\n",
       "      <th></th>\n",
       "      <th></th>\n",
       "      <th></th>\n",
       "      <th></th>\n",
       "      <th></th>\n",
       "      <th></th>\n",
       "      <th></th>\n",
       "    </tr>\n",
       "  </thead>\n",
       "  <tbody>\n",
       "    <tr>\n",
       "      <th>0</th>\n",
       "      <td>7</td>\n",
       "      <td>17</td>\n",
       "      <td>26</td>\n",
       "      <td>28</td>\n",
       "      <td>31</td>\n",
       "      <td>35</td>\n",
       "      <td>33</td>\n",
       "      <td>37</td>\n",
       "      <td>32</td>\n",
       "      <td>31</td>\n",
       "      <td>38</td>\n",
       "      <td>33</td>\n",
       "      <td>34</td>\n",
       "      <td>36</td>\n",
       "      <td>101</td>\n",
       "      <td>34</td>\n",
       "      <td>52</td>\n",
       "      <td>0</td>\n",
       "    </tr>\n",
       "    <tr>\n",
       "      <th>1</th>\n",
       "      <td>0</td>\n",
       "      <td>0</td>\n",
       "      <td>0</td>\n",
       "      <td>0</td>\n",
       "      <td>0</td>\n",
       "      <td>0</td>\n",
       "      <td>0</td>\n",
       "      <td>0</td>\n",
       "      <td>0</td>\n",
       "      <td>0</td>\n",
       "      <td>0</td>\n",
       "      <td>0</td>\n",
       "      <td>0</td>\n",
       "      <td>0</td>\n",
       "      <td>0</td>\n",
       "      <td>107</td>\n",
       "      <td>0</td>\n",
       "      <td>87</td>\n",
       "    </tr>\n",
       "  </tbody>\n",
       "</table>\n",
       "</div>"
      ],
      "text/plain": [
       "season_year  2004/2005  2005/2006  2006/2007  2007/2008  2008/2009  2009/2010  \\\n",
       "EPL_game                                                                        \n",
       "0                    7         17         26         28         31         35   \n",
       "1                    0          0          0          0          0          0   \n",
       "\n",
       "season_year  2010/2011  2011/2012  2012/2013  2013/2014  2014/2015  2015/2016  \\\n",
       "EPL_game                                                                        \n",
       "0                   33         37         32         31         38         33   \n",
       "1                    0          0          0          0          0          0   \n",
       "\n",
       "season_year  2016/2017  2017/2018  2018  2018/2019  2019  2019/2020  \n",
       "EPL_game                                                             \n",
       "0                   34         36   101         34    52          0  \n",
       "1                    0          0     0        107     0         87  "
      ]
     },
     "execution_count": 34,
     "metadata": {},
     "output_type": "execute_result"
    },
    {
     "data": {
      "image/png": "[encoded data removed]",
      "text/plain": [
       "<Figure size 432x288 with 1 Axes>"
      ]
     },
     "metadata": {},
     "output_type": "display_data"
    }
   ],
   "source": [
    "# Get json files\n",
    "data_dir = \"/Users/alexanderfoster/Documents/GitHub/open-data-master/data\"\n",
    "events_json = getJsonPaths(data_dir+'/events')\n",
    "lineups_json = getJsonPaths(data_dir+'/lineups')\n",
    "\n",
    "matches_path = data_dir+\"/matches/\"\n",
    "\n",
    "matches_dirs = getDirPath(matches_path)\n",
    "\n",
    "matches_json = []\n",
    "df_matches = pd.DataFrame()\n",
    "total_matches = 0 \n",
    "dates = []\n",
    "for m_dir in matches_dirs:\n",
    "    matches_json = getJsonPaths(matches_path+str(m_dir))\n",
    "    count = 0\n",
    "    \n",
    "    for file in matches_json:\n",
    "        #print(matches_path+str(m_dir)+'/'+file)\n",
    "        new_df = pd.read_json(matches_path+str(m_dir)+'/'+file)\n",
    "        df_matches = pd.concat([df_matches,new_df])\n",
    "        dates += list(new_df['match_date'].values)\n",
    "        total_matches +=  new_df.shape[0]\n",
    "        count+=1\n",
    "\n",
    "    #print(matches_path+str(m_dir)+' had '+str(count)+' json files')\n",
    "print('There are '+str(total_matches)+' matches total in this dataset')\n",
    "\n",
    "# Create dates into datetime objects\n",
    "# df_matches['match_date'] = pd.to_datetime(df_matches['match_date'])\n",
    "# df_matches['month'] = df_matches.apply(lambda row: row.match_date.month, axis = 1)\n",
    "# df_matches['year'] = df_matches.apply(lambda row: row.match_date.year, axis = 1)\n",
    "\n",
    "season = []\n",
    "EPL_game = []\n",
    "for idx,row in df_matches.iterrows():\n",
    "    season += [row.season['season_name']]\n",
    "    EPL_game += [1 if row.competition['country_name'] == 'England' else 0]\n",
    "df_matches['season_year'] =season\n",
    "df_matches['EPL_game'] = EPL_game\n",
    "\n",
    "df_matches\n",
    "x = df_matches['season_year'].value_counts()\n",
    "\n",
    "\n",
    "ax = x.plot.bar(rot=0,fill='EPL_game') # disgusting plot\n",
    "print(x)\n",
    "pd.crosstab(index=df_matches['EPL_game'], columns=df_matches['season_year'])"
   ]
  },
  {
   "cell_type": "code",
   "execution_count": 36,
   "metadata": {},
   "outputs": [
    {
     "data": {
      "image/png": "[encoded data removed]",
      "text/plain": [
       "<Figure size 432x288 with 1 Axes>"
      ]
     },
     "metadata": {},
     "output_type": "display_data"
    }
   ],
   "source": [
    "df_mini_england = df_matches[(df_matches['season_year']== '2018/2019') |                 \n",
    "                     (df_matches['season_year']== '2019/2020')]\n",
    "df_mini = df_matches[(df_matches['season_year']== '2018/2019') |\n",
    "                     (df_matches['season_year']== '2018') | \n",
    "                     (df_matches['season_year']== '2019/2020')|\n",
    "                     (df_matches['season_year']== '2019')]\n",
    "df_mini['season_year'].value_counts()\n",
    "x_mini = df_mini['season_year'].value_counts()\n",
    "ax_mini = x_mini.plot.bar(rot=0) # disgusting plot\n"
   ]
  },
  {
   "cell_type": "code",
   "execution_count": 25,
   "metadata": {},
   "outputs": [
    {
     "data": {
      "text/plain": [
       "match_id                                                         16215\n",
       "match_date                                                  2019-03-17\n",
       "kick_off                                                  20:45:00.000\n",
       "competition          {'competition_id': 11, 'country_name': 'Spain'...\n",
       "season                    {'season_id': 4, 'season_name': '2018/2019'}\n",
       "home_team            {'home_team_id': 218, 'home_team_name': 'Real ...\n",
       "away_team            {'away_team_id': 217, 'away_team_name': 'Barce...\n",
       "home_score                                                           1\n",
       "away_score                                                           4\n",
       "match_status                                                 available\n",
       "last_updated                                2019-12-16T23:09:16.168756\n",
       "metadata             {'data_version': '1.1.0', 'shot_fidelity_versi...\n",
       "match_week                                                          28\n",
       "competition_stage                  {'id': 1, 'name': 'Regular Season'}\n",
       "stadium              {'id': 352, 'name': 'Estadio Benito Villamarín...\n",
       "referee              {'id': 215, 'name': 'Ricardo De Burgos', 'coun...\n",
       "season_year                                                  2018/2019\n",
       "EPL_game                                                         Spain\n",
       "Name: 0, dtype: object"
      ]
     },
     "execution_count": 25,
     "metadata": {},
     "output_type": "execute_result"
    }
   ],
   "source": [
    "df_mini.iloc[0]"
   ]
  },
  {
   "cell_type": "code",
   "execution_count": 61,
   "metadata": {},
   "outputs": [
    {
     "name": "stdout",
     "output_type": "stream",
     "text": [
      "Index(['match_id', 'match_date', 'kick_off', 'competition', 'season',\n",
      "       'home_team', 'away_team', 'home_score', 'away_score', 'match_status',\n",
      "       'last_updated', 'metadata', 'match_week', 'competition_stage',\n",
      "       'stadium', 'referee', 'season_year', 'EPL_game'],\n",
      "      dtype='object')\n"
     ]
    }
   ],
   "source": [
    "print(df_matches.columns)\n",
    "\n",
    "for x in events_json:\n",
    "    for y in list(df_matches['match_id']):\n",
    "        if x == y:\n",
    "            print('yeeet')\n",
    "        \n",
    "\n",
    "def get_match_events(df_match, events_json=events_json):\n",
    "    for idx,row in df_match.iterrows():\n",
    "        for file in events_json:\n",
    "            print(file.split('.')[0], row['match_id'])\n",
    "            if row['match_id'] == file.split('.')[0]:\n",
    "                print('yeet')\n",
    "                \n",
    "        break\n",
    "                \n",
    "#get_match_events(df_mini)\n",
    "    "
   ]
  },
  {
   "cell_type": "code",
   "execution_count": null,
   "metadata": {},
   "outputs": [],
   "source": []
  },
  {
   "cell_type": "code",
   "execution_count": null,
   "metadata": {},
   "outputs": [],
   "source": []
  },
  {
   "cell_type": "code",
   "execution_count": 64,
   "metadata": {},
   "outputs": [
    {
     "data": {
      "text/plain": [
       "id                              fdc6fb59-e15f-4b2e-bd2c-68cb08673eb2\n",
       "index                                                            211\n",
       "period                                                             1\n",
       "timestamp                                 2020-04-09 00:06:17.984000\n",
       "minute                                                             6\n",
       "second                                                            17\n",
       "type                                      {'id': 30, 'name': 'Pass'}\n",
       "possession                                                        20\n",
       "possession_team                   {'id': 974, 'name': 'Reading WFC'}\n",
       "play_pattern                       {'id': 1, 'name': 'Regular Play'}\n",
       "team                              {'id': 974, 'name': 'Reading WFC'}\n",
       "duration                                                     2.85485\n",
       "tactics                                                          NaN\n",
       "related_events     [9279e103-9d0c-4d65-989c-3bbedac76b48, d945c28...\n",
       "player                       {'id': 10198, 'name': 'Josanne Potter'}\n",
       "position                       {'id': 5, 'name': 'Left Center Back'}\n",
       "location                                                [35.3, 10.9]\n",
       "pass               {'recipient': {'id': 33664, 'name': 'Rachael L...\n",
       "under_pressure                                                     1\n",
       "carry                                                            NaN\n",
       "out                                                              NaN\n",
       "counterpress                                                     NaN\n",
       "ball_receipt                                                     NaN\n",
       "clearance                                                        NaN\n",
       "duel                                                             NaN\n",
       "foul_committed                                                   NaN\n",
       "dribble                                                          NaN\n",
       "goalkeeper                                                       NaN\n",
       "shot                                                             NaN\n",
       "interception                                                     NaN\n",
       "50_50                                                            NaN\n",
       "block                                                            NaN\n",
       "ball_recovery                                                    NaN\n",
       "miscontrol                                                       NaN\n",
       "foul_won                                                         NaN\n",
       "off_camera                                                       NaN\n",
       "substitution                                                     NaN\n",
       "Name: 210, dtype: object"
      ]
     },
     "execution_count": 64,
     "metadata": {},
     "output_type": "execute_result"
    }
   ],
   "source": [
    "\n",
    "#df_matches = pd.read_json(matches_path+'/'+matches_json[0])\n",
    "\n",
    "df_event = pd.read_json(data_dir+\"/events/\"+events_json[0])\n",
    "df_lineups = pd.read_json(data_dir+\"/lineups/\"+lineups_json[1])\n",
    "\n",
    "\n",
    "df_event.iloc[210]"
   ]
  },
  {
   "cell_type": "code",
   "execution_count": null,
   "metadata": {},
   "outputs": [],
   "source": []
  }
 ],
 "metadata": {
  "kernelspec": {
   "display_name": "Python 3",
   "language": "python",
   "name": "python3"
  },
  "language_info": {
   "codemirror_mode": {
    "name": "ipython",
    "version": 3
   },
   "file_extension": ".py",
   "mimetype": "text/x-python",
   "name": "python",
   "nbconvert_exporter": "python",
   "pygments_lexer": "ipython3",
   "version": "3.6.4"
  }
 },
 "nbformat": 4,
 "nbformat_minor": 2
}
